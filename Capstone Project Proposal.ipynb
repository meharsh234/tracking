{
 "cells": [
  {
   "cell_type": "markdown",
   "metadata": {},
   "source": [
    "<a id='To Top'></a>\n",
    "# Machine Learning Engineer Nanodegree Capstone Proejct"
   ]
  },
  {
   "cell_type": "markdown",
   "metadata": {},
   "source": [
    "### Google AI Open Images - Object Detection Track\n",
    "\n",
    "  Matthew Lee <br>\n",
    "  7/21/2018\n",
    "  \n",
    "*Content*\n",
    "- [Domain Background](#Domain Background)\n",
    "- [Problem Statement](#Problem Statement)\n",
    "- [Datasets and Inputs](#Datasets and Inputs)\n",
    "- [Solution Statement](#Solution Statement)\n",
    "- [Benchmark Model](#Benchmark Model)\n",
    "- [Evaluation Metrics](#Evaluation Metrics)\n",
    "- [Project Design](#Project Design)"
   ]
  },
  {
   "cell_type": "markdown",
   "metadata": {},
   "source": [
    "<a id='Domain Background'></a>\n",
    "### Domain Background "
   ]
  },
  {
   "cell_type": "markdown",
   "metadata": {},
   "source": [
    "In recent years, one of the hottest applications of AI in computer vision has been object detection. Object detection has wide variety of applications such as robotics, autonomous driving, facial recognition, security, and etc. Such advancements are transforming our society and helping us to achieve higher goals with unprecedented speed and accuracy.<br><br>\n",
    "Despite some of the hypes around AI's unlimited potentials, current AI algorithms and solutions are very specific to individual applications. However, I believe object detection algorithms can be very versatile and used across countless applications.<br><br>\n",
    "This capstone project wishes to expand obeject detection domain by developing an algorithm to successfully detect objects in [Open Images Dataset](https://storage.googleapis.com/openimages/web/index.html), publicly released by [Google AI](https://ai.google/).\n",
    "\n",
    "<br>[Back To Top](#To Top)"
   ]
  },
  {
   "cell_type": "markdown",
   "metadata": {},
   "source": [
    "<a id='Problem Statement'></a>\n",
    "### Problem Statement"
   ]
  },
  {
   "cell_type": "markdown",
   "metadata": {},
   "source": [
    "Very popular method to develop an object detection algorithm is achieved by training neural networks with labeled images. Carefully chosen neural network architecture will be able to surpass human's performance, but training process requires enormous amount of data. We will utilize plethora of images with labels from\n",
    "[Open Images Dataset](https://storage.googleapis.com/openimages/web/index.html), publicly released by [Google AI](https://ai.google/), to develop an object detection algorithm in order to push the limits of object detection capability. Once trained, we will be able to monitor trained algorithm's performance by evaluating computed mean [Average Precision (AP)](https://en.wikipedia.org/wiki/Evaluation_measures_%28information_retrieval%29#Average_precision).\n",
    "\n",
    "<br>[Back To Top](#To Top)"
   ]
  },
  {
   "cell_type": "markdown",
   "metadata": {},
   "source": [
    "<a id='Datasets and Inputs'></a>\n",
    "### Datasets and Inputs"
   ]
  },
  {
   "cell_type": "markdown",
   "metadata": {},
   "source": [
    "In this project, [Open Images Dataset](https://storage.googleapis.com/openimages/web/index.html), publicly released by [Google AI](https://ai.google/), will be used for training the algorithm. Dataset contains 1.7 million images that contain very diverse and multiple objects. Across images in the dataset, there are 12 million bounding-box annotations for 500 object classes, making it the largest existing dataset with object location annotations. Bounding-box annotations are drawn by professional annotators to ensure accuracy and consistency, making a very optimal dataset for training an object detection algorithm.\n",
    "\n",
    "Training and Validation Set -> [Download #1](https://www.figure-eight.com/dataset/open-images-annotated-with-bounding-boxes/) or [Download #2](https://github.com/cvdfoundation/open-images-dataset#download-images-with-bounding-boxes-annotations)<br>\n",
    "Testing Set -> [Download](https://requestor-proxy.figure-eight.com/figure_eight_datasets/open-images/test_challenge.zip)\n",
    "\n",
    "<br>[Back To Top](#To Top)"
   ]
  },
  {
   "cell_type": "markdown",
   "metadata": {},
   "source": [
    "<a id='Solution Statement'></a>\n",
    "### Solution Statement"
   ]
  },
  {
   "cell_type": "markdown",
   "metadata": {},
   "source": [
    "Convolutional Neural Network (CNN) will be a perfect fit for this problem. In ordre to solve problems such as object detection, capturing spatial information is very crucial and CNN is a great fit. CNN's filters are able to capture spatial features (lines, curves, squares,..) and are able to detect objects using learned filters.\n",
    "\n",
    "<br>[Back To Top](#To Top)"
   ]
  },
  {
   "cell_type": "markdown",
   "metadata": {},
   "source": [
    "<a id='Benchmark Model'></a>\n",
    "### Benchmark Model"
   ]
  },
  {
   "cell_type": "markdown",
   "metadata": {},
   "source": [
    "In the domain of object detection, there are many proven neural network architectures such as VGGNet, GoogLeNet, Resnet, DenseNet, and etc. There are widely available weights, pre-trained on large dataset similar to [Open Images Dataset](https://storage.googleapis.com/openimages/web/index.html), from aforementioned neural network architectures. Using pre-trained weights from aforementioned architectures can be used to predict objects, and score from the base model will be used as a benchmark.\n",
    "\n",
    "<br>[Back To Top](#To Top)"
   ]
  },
  {
   "cell_type": "markdown",
   "metadata": {},
   "source": [
    "<a id='Evaluation Metrics'></a> \n",
    "### Evaluation Metrics"
   ]
  },
  {
   "cell_type": "markdown",
   "metadata": {},
   "source": [
    "Benchmark model and the solution's performances will be evaluated by mean [Average Precision (AP)](https://en.wikipedia.org/wiki/Evaluation_measures_%28information_retrieval%29#Average_precision) ($mAP$) across 500 classes in 1.7 million images in the dataset. <br>\n",
    "\n",
    "Precision ($P$) will be calculated by dividing true positives ($T_p$) over the true positives plus false positives ($F_p$) ([Precision-Recall](http://scikit-learn.org/stable/auto_examples/model_selection/plot_precision_recall.html))\n",
    "\n",
    "$$P = \\frac{T_p}{T_p+F_p}$$\n",
    "\n",
    "Detections are considered true or false positives based on the area of overlap with ground truth bounding boxes. To be considered a correct detection, thearea of overlap $a_o$ between the predicted bounding box $B_p$ and ground truth bounding box $B_{gt}$ must exceed 50% by the formula ([PASCAL VOC 2010](http://host.robots.ox.ac.uk/pascal/VOC/voc2010/devkit_doc_08-May-2010.pdf)):<br>\n",
    "\n",
    "$$a_o > 0.5\\  where\\  a_o = \\frac{area(B_p\\cap B_{gt})}{area(B_p\\cup B_{gt})}$$\n",
    "\n",
    "Recall ($R$) is calculated by dividing true positives ($T_p$) over the true positives plus the false negatives ($F_n$) ([Precision-Recall](http://scikit-learn.org/stable/auto_examples/model_selection/plot_precision_recall.html))\n",
    "\n",
    "$$R = \\frac{T_p}{T_p+F_n}$$\n",
    "\n",
    "Then, average precision ($AP$) will be calculated for each of 500 classes.\n",
    "\n",
    "$$AP = \\sum_{k=1}^n (R_k-R_{k-1})P_k$$\n",
    "\n",
    "Finally, final mean average precision ($mAP$) willl be calculated by taking average of all APs over the 500 classes.\n",
    "$$mAP = \\frac{\\sum_{k=1}^{500} AP_k}{500}$$\n",
    "\n",
    "Note that, unlike previous standard challenges such as [PASCAL VOC 2010](http://host.robots.ox.ac.uk/pascal/VOC/voc2010/devkit_doc_08-May-2010.pdf), [Google AI Open Images - Object Detection Track](https://www.kaggle.com/c/google-ai-open-images-object-detection-track#Description) has three new metrics that affect the way True Positives and False Positives are accounted ([Open Images Challenge 2018 - object detection track - evaluation metric](https://storage.googleapis.com/openimages/web/object_detection_metric.html))\n",
    "- Due to the Open Images annotation process, image-level labeling is not exhaustive.\n",
    "- The object classes are organized in a semantic hierarchy, meaning that some categories are more general than others (e.g. 'Animal' is more general than 'Cat', as 'Cat' is a subclass of 'Animal').\n",
    "- Some of the ground-truth bounding-boxes capture a group of objects, rather than a single object.\n",
    "\n",
    "<br>[Back To Top](#To Top)"
   ]
  },
  {
   "cell_type": "markdown",
   "metadata": {},
   "source": [
    "<a id='Project Design'></a>\n",
    "### Project Design"
   ]
  },
  {
   "cell_type": "markdown",
   "metadata": {},
   "source": [
    "1. Benchmark Model\n",
    " -  My first approach is to utilize pre-trained weights from most current Convolutional Neural Network (CNN) architectures such as VGG-19, ResNet-50, Inception, Xception, and etc. We will initially obtain benchmark model by evaluating which architecture's pre-trained weights give best mean average precision right off the bet.\n",
    "\n",
    "2. Improve Base Model\n",
    " - Data will be analyzed if there are major impalances. If so, data augmentation techniques such as [ADASYN](http://contrib.scikit-learn.org/imbalanced-learn/stable/generated/imblearn.over_sampling.ADASYN.html), [SMOTE](http://contrib.scikit-learn.org/imbalanced-learn/stable/generated/imblearn.over_sampling.SMOTE.html), [scaling](http://scikit-learn.org/stable/modules/generated/sklearn.preprocessing.scale.html), and etc can be used.\n",
    " - Split dataset to training (~80%) and validation set (~20%) to be used to identify the most effective model. (For this competition, training and validation sets are provided)\n",
    " - Then, model will tweaked and improved to yield the highest mean Average Precision ($mAP$). Some of important categories for optimization potentials are learning rate, types of optimizers, usage of model ensembling, and so on.\n",
    " \n",
    "3. Final Touch\n",
    " - Visualize file results in order to identify some of the best and worst performing classes. This will help us to find room for improvement in the model. One popular way is done by using a [confusion matrix](http://scikit-learn.org/stable/modules/generated/sklearn.metrics.confusion_matrix.html).\n",
    " - Finally, train the model using entire dataset (training and validation set combined). Then, obtain predictions for testing image dataset and submit it in Kaggle. \n",
    "\n",
    "<br><br>[Back To Top](#To Top)"
   ]
  }
 ],
 "metadata": {
  "kernelspec": {
   "display_name": "Python 3",
   "language": "python",
   "name": "python3"
  },
  "language_info": {
   "codemirror_mode": {
    "name": "ipython",
    "version": 3
   },
   "file_extension": ".py",
   "mimetype": "text/x-python",
   "name": "python",
   "nbconvert_exporter": "python",
   "pygments_lexer": "ipython3",
   "version": "3.6.5"
  }
 },
 "nbformat": 4,
 "nbformat_minor": 2
}
