{
 "cells": [
  {
   "cell_type": "code",
   "execution_count": 1,
   "metadata": {},
   "outputs": [],
   "source": [
    "# Import Library\n",
    "import os,csv\n",
    "import pandas as pd\n",
    "from tqdm import trange\n",
    "import copy\n",
    "import numpy as np"
   ]
  },
  {
   "cell_type": "markdown",
   "metadata": {},
   "source": [
    "### (Train Set) Load \"challenge-2018-train-annotations-bbox.csv\" "
   ]
  },
  {
   "cell_type": "code",
   "execution_count": 2,
   "metadata": {},
   "outputs": [
    {
     "name": "stderr",
     "output_type": "stream",
     "text": [
      "100%|███████████████████████████████████████████████████████████████████| 12195144/12195144 [06:14<00:00, 32589.19it/s]\n"
     ]
    }
   ],
   "source": [
    "os.chdir(\"E:/Machine Learning/Kaggle - Open Images Challenge\")\n",
    "data = pd.read_csv('Excel Files/challenge-2018-train-annotations-bbox.csv',low_memory=False)\n",
    "# Obtain necessary columns and generate width&height using min&max\n",
    "ImageID_train = copy.copy(data['ImageID'])\n",
    "for  i in trange(len(ImageID_train)):\n",
    "    ImageID_train[i] = ImageID_train[i]+\".txt\"\n",
    "# Load label data and map label names to numeric labels to be fed to darknet YOLO v3 training\n",
    "# Load data to carry out label mapping & convert it to dictionary\n",
    "LabelName_train = copy.copy(data['LabelName'])\n",
    "LabelName_train_kaggle = copy.copy(data['LabelName'])\n",
    "LabelName_train_mapping = pd.read_csv('challenge-2018-class-descriptions-500.csv')\n",
    "LabelName_train_mapping_dict = dict()\n",
    "for i in range(len(LabelName_train_mapping)):\n",
    "      LabelName_train_mapping_dict[LabelName_train_mapping['kaggle_label'][i]] = LabelName_train_mapping['darknet_label'][i]\n",
    "# Use dictionary to convert labels in \"LabelName_train\" to its numeric equivalent labels for darknet training\n",
    "for i in trange(len(LabelName_train)):\n",
    "    LabelName_train[i] = LabelName_train_mapping_dict[LabelName_train[i]]\n",
    "XMin_train = copy.copy(data['XMin'])\n",
    "YMin_train = copy.copy(data['YMin'])\n",
    "Width_train = copy.copy(abs(data['XMax']-data['XMin']))\n",
    "Height_train = copy.copy(abs(data['YMax']-data['YMin']))\n",
    "XCenter_train = XMin_train + Width_train/2\n",
    "# Darknet uses left-top as zero coordinate. Hence, 1-YCenter_train\n",
    "YCenter_train = 1-(YMin_train + Height_train/2)"
   ]
  },
  {
   "cell_type": "markdown",
   "metadata": {},
   "source": [
    "### (Train Set) Create log text file so you don't have to run \"In [2]:\" everytime"
   ]
  },
  {
   "cell_type": "code",
   "execution_count": 26,
   "metadata": {
    "scrolled": true
   },
   "outputs": [],
   "source": [
    "# # Combine texts to output in \"<object-class> <x_center> <y_center> <width> <height>\"\n",
    "darknet_input = []\n",
    "for i in trange(len(LabelName_train)):\n",
    "    darknet_input.append( (str(LabelName_train[i])+\" \"+str(XCenter_train[i])+\n",
    "                        \" \"+str(YCenter_train[i])+\" \"+str(Width_train[i])+\n",
    "                        \" \"+str(Height_train[i]) ))\n",
    "# Save final input to a txt file\n",
    "os.chdir(\"E:/Machine Learning/Kaggle - Open Images Challenge\")\n",
    "with open('darknet_input.txt','w') as f:\n",
    "    for lines in darknet_input:\n",
    "        f.write(lines)\n",
    "        f.write('\\n')"
   ]
  },
  {
   "cell_type": "markdown",
   "metadata": {},
   "source": [
    "### (Train Set) Delete contents in text files in main \"train\" folder"
   ]
  },
  {
   "cell_type": "code",
   "execution_count": 4,
   "metadata": {},
   "outputs": [
    {
     "name": "stderr",
     "output_type": "stream",
     "text": [
      "100%|██████████████████████████████████████████████████████████████████████| 1674979/1674979 [09:31<00:00, 2932.53it/s]\n"
     ]
    }
   ],
   "source": [
    "ImageID_train_set = copy.copy((ImageID_train))\n",
    "ImageID_train_set = set(ImageID_train_set)                         \n",
    "ImageID_train_set = list(ImageID_train_set)\n",
    "os.chdir(\"E:/Machine Learning/Kaggle - Open Images Challenge/darknet/build/darknet/x64/data/train\")\n",
    "for i in trange(len(ImageID_train_set)):\n",
    "    open(ImageID_train_set[i],'w').close()"
   ]
  },
  {
   "cell_type": "markdown",
   "metadata": {},
   "source": [
    "### (Train Set) Create individual text files with \"(object-class) (x_center) (y_center) (width) (height)\" per darknet specification in destination folder"
   ]
  },
  {
   "cell_type": "code",
   "execution_count": 5,
   "metadata": {
    "scrolled": true
   },
   "outputs": [
    {
     "name": "stdout",
     "output_type": "stream",
     "text": [
      "12195144\n",
      "12195144\n"
     ]
    },
    {
     "name": "stderr",
     "output_type": "stream",
     "text": [
      "100%|███████████████████████████████████████████████████████████████████| 12195144/12195144 [9:54:28<00:00, 341.90it/s]\n"
     ]
    }
   ],
   "source": [
    "# import \"darknet_input.txt\" if \"In [2]:\" was not ran\n",
    "os.chdir(\"E:/Machine Learning/Kaggle - Open Images Challenge\")\n",
    "darknet_input = []\n",
    "with  open(\"darknet_input.txt\") as f:\n",
    "    darknet_input = f.readlines()\n",
    "    \n",
    "for i in trange(len(darknet_input)):\n",
    "    darknet_input[i] = darknet_input[i][:-1]\n",
    "\n",
    "data = pd.read_csv('Excel Files/challenge-2018-train-annotations-bbox.csv',low_memory=False)\n",
    "# Obtain necessary columns and generate width&height using min&max\n",
    "ImageID_train = copy.copy(data['ImageID'])\n",
    "for  i in trange(len(ImageID_train)):\n",
    "    ImageID_train[i] = ImageID_train[i]+\".txt\"\n",
    "print(len(ImageID_train))\n",
    "print(len(darknet_input))\n",
    "# Specify folder to save text files to\n",
    "os.chdir(\"E:/Machine Learning/Kaggle - Open Images Challenge/darknet/build/darknet/x64/data/train\")\n",
    "for i in trange(len(darknet_input)):\n",
    "    with open(ImageID_train[i],'a') as f:\n",
    "        f.write(darknet_input[i])\n",
    "\n"
   ]
  },
  {
   "cell_type": "markdown",
   "metadata": {},
   "source": [
    "### (Validation Set) Create \"real_validation-annotations-bbox.csv\" from original annotation file by taking out classes not included in the competition.\n",
    "(Validation annotation contained classes outside 500 classes from competition and didn't allow me to easily map kaggle's labels to darknet's labels. ex) \"/m/061hd_\"(Kaggle) -> \"0\" (Darknet))"
   ]
  },
  {
   "cell_type": "code",
   "execution_count": null,
   "metadata": {},
   "outputs": [],
   "source": [
    "# Import original annotation data provided by Kaggle competition\n",
    "os.chdir(\"E:/Machine Learning/Kaggle - Open Images Challenge\")\n",
    "data_val = pd.read_csv('Excel Files/validation-annotations-bbox.csv',low_memory=False)\n",
    "#Set up mapping\n",
    "LabelName_val_mapping = pd.read_csv('challenge-2018-class-descriptions-500.csv')\n",
    "LabelName_val_mapping_dict = dict()\n",
    "for i in range(len(LabelName_val_mapping)):\n",
    "      LabelName_val_mapping_dict[LabelName_val_mapping['kaggle_label'][i]] = LabelName_val_mapping['darknet_label'][i]\n",
    "# Pop the row that is not within 500 categories from the competition\n",
    "for i in trange(len(data_val['LabelName'])):\n",
    "    if data_val['LabelName'][i] in LabelName_val_mapping_dict:\n",
    "        pass\n",
    "    else  :\n",
    "        data_val = data_val.drop(i)"
   ]
  },
  {
   "cell_type": "markdown",
   "metadata": {},
   "source": [
    "### (Validation Set) Delete contents in text files in main \"val\" folder"
   ]
  },
  {
   "cell_type": "code",
   "execution_count": 6,
   "metadata": {},
   "outputs": [
    {
     "name": "stderr",
     "output_type": "stream",
     "text": [
      "100%|██████████████████████████████████████████████████████████████████████████| 33073/33073 [00:06<00:00, 5317.74it/s]\n"
     ]
    }
   ],
   "source": [
    "os.chdir(\"E:/Machine Learning/Kaggle - Open Images Challenge/darknet/build/darknet/x64/data\")\n",
    "data_val = pd.read_csv('real_validation-annotations-bbox.csv',low_memory=False)\n",
    "# Obtain necessary columns and generate width&height using min&max\n",
    "ImageID_val = copy.copy(data_val['ImageID'])\n",
    "for  i in range(len(ImageID_val)):\n",
    "    ImageID_val[i] = ImageID_val[i]+\".txt\"\n",
    "\n",
    "ImageID_val_set = copy.copy((ImageID_val))\n",
    "ImageID_val_set = set(ImageID_val_set)                         \n",
    "ImageID_val_set = list(ImageID_val_set)\n",
    "os.chdir(\"E:/Machine Learning/Kaggle - Open Images Challenge/darknet/build/darknet/x64/data/val\")\n",
    "for i in trange(len(ImageID_val_set)):\n",
    "    open(ImageID_val_set[i],'w').close()"
   ]
  },
  {
   "cell_type": "markdown",
   "metadata": {},
   "source": [
    "### (Validation Set) Perform all of the above for validation set"
   ]
  },
  {
   "cell_type": "code",
   "execution_count": 7,
   "metadata": {},
   "outputs": [
    {
     "name": "stderr",
     "output_type": "stream",
     "text": [
      "100%|███████████████████████████████████████████████████████████████████████| 166905/166905 [00:01<00:00, 95903.27it/s]\n",
      "100%|███████████████████████████████████████████████████████████████████████| 166905/166905 [00:06<00:00, 26939.98it/s]\n",
      "100%|█████████████████████████████████████████████████████████████████████████| 166905/166905 [07:51<00:00, 353.63it/s]\n"
     ]
    }
   ],
   "source": [
    "os.chdir(\"E:/Machine Learning/Kaggle - Open Images Challenge/darknet/build/darknet/x64/data\")\n",
    "data_val = pd.read_csv('real_validation-annotations-bbox.csv',low_memory=False)\n",
    "# Obtain necessary columns and generate width&height using min&max\n",
    "ImageID_val = copy.copy(data_val['ImageID'])\n",
    "for  i in range(len(ImageID_val)):\n",
    "    ImageID_val[i] = ImageID_val[i]+\".txt\"\n",
    "# Load label data and map label names to numeric labels to be fed to darknet YOLO v3 training\n",
    "# Load data to carry out label mapping & convert it to dictionary\n",
    "LabelName_val = copy.copy(data_val['LabelName'])\n",
    "LabelName_val_mapping = pd.read_csv('challenge-2018-class-descriptions-500.csv')\n",
    "LabelName_val_mapping_dict = dict()\n",
    "for i in range(len(LabelName_val_mapping)):\n",
    "      LabelName_val_mapping_dict[LabelName_val_mapping['kaggle_label'][i]] = LabelName_val_mapping['darknet_label'][i]\n",
    "# Use dictionary to convert labels in \"LabelName_train\" to its numeric equivalent labels for darknet training\n",
    "for i in trange(len(LabelName_val)):\n",
    "    LabelName_val[i] = LabelName_val_mapping_dict[LabelName_val[i]]\n",
    "XMin_val = copy.copy(data_val['XMin'])\n",
    "YMin_val = copy.copy(data_val['YMin'])\n",
    "Width_val = copy.copy(abs(data_val['XMax']-data_val['XMin']))\n",
    "Height_val = copy.copy(abs(data_val['YMax']-data_val['YMin']))\n",
    "XCenter_val = XMin_val + Width_val/2\n",
    "YCenter_val = 1-(YMin_val + Height_val/2)\n",
    "\n",
    "# Combine texts to output in \"<object-class> <x_center> <y_center> <width> <height>\"\n",
    "darknet_input_val = []\n",
    "for i in trange(len(LabelName_val)):\n",
    "    darknet_input_val.append( (str(LabelName_val[i])+\" \"+str(XCenter_val[i])+\n",
    "                        \" \"+str(YCenter_val[i])+\" \"+str(Width_val[i])+\n",
    "                        \" \"+str(Height_val[i]) ))\n",
    "# Save final input to a txt file\n",
    "os.chdir(\"E:/Machine Learning/Kaggle - Open Images Challenge\")\n",
    "with open('darknet_input_val.txt','w') as f:\n",
    "    for lines in darknet_input_val:\n",
    "        f.write(lines)\n",
    "        f.write('\\n')\n",
    "\n",
    "\n",
    "# # import \"darknet_input_val.txt\" if \"In [2]:\" was not ran\n",
    "# darknet_input_val = []\n",
    "# with  open(\"darknet_input_val.txt\") as f:\n",
    "#     darknet_input_val = f.readlines()\n",
    "# Specify folder to save text files to.\n",
    "os.chdir(\"E:/Machine Learning/Kaggle - Open Images Challenge/darknet/build/darknet/x64/data/val\")\n",
    "for i in trange(len(ImageID_val)):\n",
    "    with open(ImageID_val[i],'a') as f:\n",
    "        f.write(darknet_input_val[i])\n",
    "        # Don't include below line if reading info from \n",
    "        f.write('\\n')\n",
    "        \n"
   ]
  },
  {
   "cell_type": "markdown",
   "metadata": {},
   "source": [
    "### (Train Set) Create \"train.txt\" file to be put into train folder for darknet"
   ]
  },
  {
   "cell_type": "code",
   "execution_count": 23,
   "metadata": {},
   "outputs": [],
   "source": [
    "# Import train data\n",
    "os.chdir(\"E:/Machine Learning/Kaggle - Open Images Challenge\")\n",
    "data_train = pd.read_csv('Excel Files/challenge-2018-train-annotations-bbox.csv',low_memory=False)\n",
    "# Obtain just Image names\n",
    "ImageID_train = copy.copy(data_train['ImageID'])\n",
    "# Remove duplicate\n",
    "ImageID_train = set(ImageID_train)\n",
    "# Turn data into list again\n",
    "ImageID_train = list(ImageID_train)\n",
    "# train.txt file to be put into train folder for darknet training\n",
    "os.chdir(\"E:/Machine Learning/Kaggle - Open Images Challenge/darknet/build/darknet/x64/data/train\")\n",
    "with open(\"train.txt\",'w') as f:\n",
    "    for lines in ImageID_train:\n",
    "        f.write(\"data/train/\")\n",
    "        f.write(lines)\n",
    "        f.write(\".jpg\")\n",
    "        f.write('\\n')"
   ]
  },
  {
   "cell_type": "markdown",
   "metadata": {},
   "source": [
    "### (Validation Set) Create \"val.txt\" file to be put into train folder for darknet"
   ]
  },
  {
   "cell_type": "code",
   "execution_count": 24,
   "metadata": {},
   "outputs": [],
   "source": [
    "#Import train data\n",
    "os.chdir(\"E:/Machine Learning/Kaggle - Open Images Challenge\")\n",
    "data_val = pd.read_csv('Excel Files/real_validation-annotations-bbox.csv',low_memory=False)\n",
    "# Obtain just Image names\n",
    "ImageID_val = copy.copy(data_val['ImageID'])\n",
    "# Remove duplicate\n",
    "ImageID_val = set(ImageID_val)\n",
    "# Turn data into list again\n",
    "ImageID_val = list(ImageID_val)\n",
    "# val.txt file to be put into train folder for darknet training\n",
    "os.chdir(\"E:/Machine Learning/Kaggle - Open Images Challenge/darknet/build/darknet/x64/data/val\")\n",
    "with open(\"val.txt\",'w') as f:\n",
    "    for lines in ImageID_val:\n",
    "        f.write(\"data/val/\")\n",
    "        f.write(lines)\n",
    "        f.write(\".jpg\")\n",
    "        f.write('\\n')"
   ]
  },
  {
   "cell_type": "markdown",
   "metadata": {},
   "source": [
    "### (Test) Add directory info to \"test.txt\""
   ]
  },
  {
   "cell_type": "code",
   "execution_count": 20,
   "metadata": {},
   "outputs": [],
   "source": [
    "os.chdir(\"E:/Machine Learning/Kaggle - Open Images Challenge/darknet/build/darknet/x64/data/test/challenge2018_test\")\n",
    "test_text = os.listdir(\"E:/Machine Learning/Kaggle - Open Images Challenge/darknet/build/darknet/x64/data/test/challenge2018_test\")\n"
   ]
  },
  {
   "cell_type": "code",
   "execution_count": 21,
   "metadata": {},
   "outputs": [],
   "source": [
    "for i in range(len(test_text)):\n",
    "    test_text[i] = \"data/test/challenge2018_test/\"+test_text[i]"
   ]
  },
  {
   "cell_type": "code",
   "execution_count": 22,
   "metadata": {},
   "outputs": [],
   "source": [
    "with open(\"test.txt\",'w') as f:\n",
    "    for lines in test_text:\n",
    "        f.write(lines)\n",
    "        f.write('\\n')"
   ]
  },
  {
   "cell_type": "markdown",
   "metadata": {},
   "source": [
    "### (Test) Submission File - Process Darknet's output in a .txt to .csv"
   ]
  },
  {
   "cell_type": "code",
   "execution_count": 3,
   "metadata": {
    "scrolled": true
   },
   "outputs": [
    {
     "name": "stderr",
     "output_type": "stream",
     "text": [
      "100%|███████████████████████████████████████████████████████████████████████| 99999/99999 [00:00<00:00, 2387281.18it/s]\n",
      "100%|███████████████████████████████████████████████████████████████████████| 99999/99999 [00:00<00:00, 1542575.23it/s]\n"
     ]
    }
   ],
   "source": [
    "# Read results from darknet prediction output\n",
    "os.chdir(\"E:/Machine Learning/Kaggle - Open Images Challenge/darknet/build/darknet/x64\")\n",
    "submission_text = []\n",
    "with open(\"result_coco.txt\") as f:\n",
    "    submission_text = f.readlines()\n",
    "# Trim \"\\n\" from end of each line from text file\n",
    "for i in trange(len(submission_text)):\n",
    "    submission_text[i] = submission_text[i][:-2]\n",
    "# Save image name and prediction string separately  \n",
    "submission_ImageId = []\n",
    "submission_pred = []\n",
    "for i in trange(len(submission_text)):\n",
    "    submission_ImageId.append(submission_text[i][10:26])\n",
    "    submission_pred.append(submission_text[i][31:])\n",
    "# # Replaces wrongly labeled label\n",
    "# for i in trange(len(submission_pred)):\n",
    "#     if \"traffic light\" in submission_pred[i]:\n",
    "#         submission_pred[i]=submission_pred[i].replace('traffic light','/m/015qff')\n",
    "# Save \"submission_ImageId\" and \"submission_pred\" under correct headers for final submission\n",
    "raw_df = pd.DataFrame({\"ImageId\":submission_ImageId,\"PredictionString\":submission_pred})\n",
    "raw_df.to_csv(\"submission_coco.csv\",index=False)"
   ]
  },
  {
   "cell_type": "markdown",
   "metadata": {},
   "source": [
    "###  (Test) Create \"test.txt\" file and add appropriate directory path"
   ]
  },
  {
   "cell_type": "code",
   "execution_count": 2,
   "metadata": {},
   "outputs": [
    {
     "data": {
      "text/plain": [
       "99999"
      ]
     },
     "execution_count": 2,
     "metadata": {},
     "output_type": "execute_result"
    }
   ],
   "source": [
    "os.chdir(\"E:/Machine Learning/Kaggle - Open Images Challenge/darknet/build/darknet/x64/data/test\")\n",
    "filenames = os.listdir()\n",
    "print(len(filenames))\n",
    "for i in trange(len(filenames)):\n",
    "    filenames[i]= \"data/test/\"+filenames[i]\n",
    "with open(\"test.txt\",'w') as f:\n",
    "    for lines in filenames:\n",
    "        f.write(lines)\n",
    "        f.write('\\n')\n",
    "    "
   ]
  },
  {
   "cell_type": "markdown",
   "metadata": {},
   "source": [
    "### (Train) Create testing environment for darknet without labels covered by COCO"
   ]
  },
  {
   "cell_type": "code",
   "execution_count": 2,
   "metadata": {},
   "outputs": [],
   "source": [
    "#Read training annotation files\n",
    "train_file_entry = pd.read_csv(\"E:/Machine Learning/Kaggle - Open Images Challenge/Excel Files/challenge-2018-train-annotations-bbox.csv\")\n",
    "# Read COCO mapping\n",
    "coco_mapping = pd.read_csv(\"E:/Machine Learning/Kaggle - Open Images Challenge/Excel Files/coco_mapping.csv\")\n",
    "coco_mapping_dict = dict()\n",
    "for i in range(len(coco_mapping)):\n",
    "    coco_mapping_dict[coco_mapping['label'][i]] = coco_mapping['name'][i]"
   ]
  },
  {
   "cell_type": "code",
   "execution_count": 2,
   "metadata": {
    "scrolled": true
   },
   "outputs": [],
   "source": [
    "# Instead of popping...append!\n",
    "train_ImageID = []\n",
    "train_LabelName = []\n",
    "train_XMin = []\n",
    "train_XMax = []\n",
    "train_YMin = []\n",
    "train_YMax = []\n",
    "print(\"Original entry length : \",len(train_file_entry))\n",
    "for i in trange(len(train_file_entry)):\n",
    "    if train_file_entry['LabelName'][i] not in coco_mapping_dict:\n",
    "        train_ImageID.append(train_file_entry['ImageID'][i])\n",
    "        train_LabelName.append(train_file_entry['LabelName'][i])\n",
    "        train_XMin.append(train_file_entry['XMin'][i])\n",
    "        train_XMax.append(train_file_entry['XMax'][i])\n",
    "        train_YMin.append(train_file_entry['YMin'][i])\n",
    "        train_YMax.append(train_file_entry['YMax'][i])\n"
   ]
  },
  {
   "cell_type": "code",
   "execution_count": 5,
   "metadata": {},
   "outputs": [
    {
     "name": "stdout",
     "output_type": "stream",
     "text": [
      "New entry length :  10114966\n",
      "It is saved in : E:\\Machine Learning\\Kaggle - Open Images Challenge\n"
     ]
    }
   ],
   "source": [
    "# Save new data to a csv file\n",
    "print(\"New entry length : \",len(train_XMin))\n",
    "# Write new csv\n",
    "train_df = pd.DataFrame({\"ImageID\":train_ImageID,\"LabelName\":train_LabelName,\"XMin\":train_XMin,\"XMax\":train_XMax,\"YMin\":train_YMin,\"YMax\":train_YMax})\n",
    "train_df.to_csv(\"train_annotation_without_coco.csv\",index=False)\n",
    "print(\"It is saved in :\",os.getcwd())"
   ]
  },
  {
   "cell_type": "code",
   "execution_count": 6,
   "metadata": {
    "scrolled": true
   },
   "outputs": [],
   "source": [
    "# Load new data to a csv without data covered by COCO\n",
    "train_df = pd.read_csv(\"E:/Machine Learning/Kaggle - Open Images Challenge/train_annotation_without_coco.csv\")"
   ]
  },
  {
   "cell_type": "code",
   "execution_count": 6,
   "metadata": {},
   "outputs": [],
   "source": [
    "# Delete all .txt files\n",
    "directory_path = \"E:/Machine Learning/Kaggle - Open Images Challenge/darknet/build/darknet/x64/data/train\"\n",
    "os.chdir(directory_path)\n",
    "files_to_delete=os.listdir(directory_path)\n",
    "\n",
    "for i in trange(len(files_to_delete)):\n",
    "    if files_to_delete[i].endswith(\".txt\"):\n",
    "        os.remove(files_to_delete[i])"
   ]
  },
  {
   "cell_type": "code",
   "execution_count": 7,
   "metadata": {
    "scrolled": true
   },
   "outputs": [
    {
     "name": "stderr",
     "output_type": "stream",
     "text": [
      "100%|███████████████████████████████████████████████████████████████████| 10114966/10114966 [8:17:43<00:00, 338.71it/s]\n"
     ]
    }
   ],
   "source": [
    "ImageID_train = copy.copy(np.asarray(train_df['ImageID']))\n",
    "for  i in range(len(ImageID_train)):\n",
    "    ImageID_train[i] = ImageID_train[i]+\".txt\"\n",
    "# Load data to carry out label mapping & convert it to dictionary\n",
    "LabelName_train = copy.copy(train_df['LabelName'])\n",
    "\n",
    "LabelName_train_mapping = list(set(LabelName_train))\n",
    "LabelName_train_mapping_dict = dict()\n",
    "for i in range(len(LabelName_train_mapping)):\n",
    "      LabelName_train_mapping_dict[LabelName_train_mapping[i]] = i\n",
    "# Use dictionary to convert labels in \"LabelName_train\" to its numeric equivalent labels for darknet training\n",
    "for i in trange(len(LabelName_train)):\n",
    "    LabelName_train[i] = LabelName_train_mapping_dict[LabelName_train[i]]\n",
    "XMin_train = copy.copy(train_df['XMin'])\n",
    "YMin_train = copy.copy(train_df['YMin'])\n",
    "Width_train = copy.copy(abs(train_df['XMax']-train_df['XMin']))\n",
    "Height_train = copy.copy(abs(train_df['YMax']-train_df['YMin']))\n",
    "XCenter_train = XMin_train + Width_train/2\n",
    "YCenter_train = YMin_train + Height_train/2\n",
    "\n",
    "# Combine texts to output in \"<object-class> <x_center> <y_center> <width> <height>\"\n",
    "darknet_input_train = []\n",
    "for i in trange(len(LabelName_train)):\n",
    "    darknet_input_train.append( (str(LabelName_train[i])+\" \"+str(XCenter_train[i])+\n",
    "                        \" \"+str(YCenter_train[i])+\" \"+str(Width_train[i])+\n",
    "                        \" \"+str(Height_train[i]) ))\n",
    "# Save final input to a txt file\n",
    "os.chdir(\"E:/Machine Learning/Kaggle - Open Images Challenge\")\n",
    "with open('darknet_input_val_aug_23.txt','w') as f:\n",
    "    for lines in darknet_input_train:\n",
    "        f.write(lines)\n",
    "        f.write('\\n')\n",
    "\n",
    "\n",
    "# import \"darknet_input_val_aug_23.txt\" if \"In [2]:\" was not ran\n",
    "os.chdir(\"E:/Machine Learning/Kaggle - Open Images Challenge\")\n",
    "darknet_input_train = []\n",
    "with  open(\"darknet_input_train_aug_23.txt\") as f:\n",
    "    darknet_input_train = f.readlines()\n",
    "\n",
    "# Specify folder to save text files to.\n",
    "train_df = pd.read_csv(\"E:/Machine Learning/Kaggle - Open Images Challenge/train_annotation_without_coco.csv\")\n",
    "ImageID_train = copy.copy(np.asarray(train_df['ImageID']))\n",
    "for  i in range(len(ImageID_train)):\n",
    "    ImageID_train[i] = ImageID_train[i]+\".txt\"\n",
    "os.chdir(\"E:/Machine Learning/Kaggle - Open Images Challenge/darknet/build/darknet/x64/data/train\")\n",
    "for i in trange(len(ImageID_train)):\n",
    "    with open(ImageID_train[i],'a') as f:\n",
    "        f.write(darknet_input_train[i])\n",
    "        # Don't include below line if reading info from text file\n",
    "        #f.write('\\n')\n",
    "        \n"
   ]
  },
  {
   "cell_type": "markdown",
   "metadata": {},
   "source": [
    "### (Val) Create testing environment for darknet without labels covered by COCO"
   ]
  },
  {
   "cell_type": "code",
   "execution_count": 2,
   "metadata": {},
   "outputs": [],
   "source": [
    "#Read training annotation files\n",
    "val_file_entry = pd.read_csv(\"E:/Machine Learning/Kaggle - Open Images Challenge/Excel Files/real_validation-annotations-bbox.csv\")\n",
    "# Read COCO mapping\n",
    "coco_mapping = pd.read_csv(\"E:/Machine Learning/Kaggle - Open Images Challenge/Excel Files/coco_mapping.csv\")\n",
    "coco_mapping_dict = dict()\n",
    "for i in range(len(coco_mapping)):\n",
    "    coco_mapping_dict[coco_mapping['label'][i]] = coco_mapping['name'][i]"
   ]
  },
  {
   "cell_type": "code",
   "execution_count": 7,
   "metadata": {},
   "outputs": [
    {
     "name": "stdout",
     "output_type": "stream",
     "text": [
      "Original entry length :  166905\n"
     ]
    },
    {
     "name": "stderr",
     "output_type": "stream",
     "text": [
      "100%|███████████████████████████████████████████████████████████████████████| 166905/166905 [00:08<00:00, 20048.04it/s]\n"
     ]
    }
   ],
   "source": [
    "# # Instead of popping...append!\n",
    "# val_ImageID = []\n",
    "# val_LabelName = []\n",
    "# val_XMin = []\n",
    "# val_XMax = []\n",
    "# val_YMin = []\n",
    "# val_YMax = []\n",
    "# print(\"Original entry length : \",len(val_file_entry))\n",
    "# for i in trange(len(val_file_entry)):\n",
    "#     if val_file_entry['LabelName'][i] not in coco_mapping_dict:\n",
    "#         val_ImageID.append(val_file_entry['ImageID'][i])\n",
    "#         val_LabelName.append(val_file_entry['LabelName'][i])\n",
    "#         val_XMin.append(val_file_entry['XMin'][i])\n",
    "#         val_XMax.append(val_file_entry['XMax'][i])\n",
    "#         val_YMin.append(val_file_entry['YMin'][i])\n",
    "#         val_YMax.append(val_file_entry['YMax'][i])"
   ]
  },
  {
   "cell_type": "code",
   "execution_count": 8,
   "metadata": {},
   "outputs": [
    {
     "name": "stdout",
     "output_type": "stream",
     "text": [
      "New entry length :  129722\n",
      "It is saved in : E:\\Machine Learning\\Kaggle - Open Images Challenge\n"
     ]
    }
   ],
   "source": [
    "# # Save new data to a csv file\n",
    "# print(\"New entry length : \",len(val_XMin))\n",
    "# # Write new csv\n",
    "# val_df = pd.DataFrame({\"ImageID\":val_ImageID,\"LabelName\":val_LabelName,\"XMin\":val_XMin,\"XMax\":val_XMax,\"YMin\":val_YMin,\"YMax\":val_YMax})\n",
    "# val_df.to_csv(\"val_annotation_without_coco.csv\",index=False)\n",
    "# print(\"It is saved in :\",os.getcwd())"
   ]
  },
  {
   "cell_type": "code",
   "execution_count": 3,
   "metadata": {},
   "outputs": [],
   "source": [
    "# Load new data to a csv without data covered by COCO\n",
    "val_df = pd.read_csv(\"E:/Machine Learning/Kaggle - Open Images Challenge/val_annotation_without_coco.csv\")"
   ]
  },
  {
   "cell_type": "code",
   "execution_count": 3,
   "metadata": {},
   "outputs": [
    {
     "name": "stderr",
     "output_type": "stream",
     "text": [
      "100%|█████████████████████████████████████████████████████████████████████████| 68800/68800 [00:03<00:00, 18113.44it/s]\n"
     ]
    }
   ],
   "source": [
    "# # Delete .txt files\n",
    "# directory_path = \"E:/Machine Learning/Kaggle - Open Images Challenge/darknet/build/darknet/x64/data/val\"\n",
    "# os.chdir(directory_path)\n",
    "# files_to_delete=os.listdir(directory_path)\n",
    "\n",
    "# for i in trange(len(files_to_delete)):\n",
    "#     if files_to_delete[i].endswith(\".txt\"):\n",
    "#         os.remove(files_to_delete[i])"
   ]
  },
  {
   "cell_type": "code",
   "execution_count": 4,
   "metadata": {},
   "outputs": [],
   "source": [
    "# Load data to carry out label mapping & convert it to dictionary\n",
    "LabelName_val = copy.copy(val_df['LabelName'])\n",
    "\n",
    "LabelName_val_mapping = list(set(LabelName_val))\n",
    "LabelName_val_mapping_dict = dict()\n",
    "for i in range(len(LabelName_val_mapping)):\n",
    "      LabelName_val_mapping_dict[LabelName_val_mapping[i]] = i"
   ]
  },
  {
   "cell_type": "code",
   "execution_count": 4,
   "metadata": {},
   "outputs": [
    {
     "name": "stderr",
     "output_type": "stream",
     "text": [
      "100%|███████████████████████████████████████████████████████████████████████| 129722/129722 [00:01<00:00, 76487.41it/s]\n",
      "100%|███████████████████████████████████████████████████████████████████████| 129722/129722 [00:05<00:00, 23116.74it/s]\n"
     ]
    }
   ],
   "source": [
    "ImageID_val = copy.copy(val_df['ImageID'])\n",
    "for  i in range(len(ImageID_val)):\n",
    "    ImageID_val[i] = ImageID_val[i]+\".txt\"\n",
    "# Load data to carry out label mapping & convert it to dictionary\n",
    "LabelName_val = copy.copy(val_df['LabelName'])\n",
    "\n",
    "LabelName_val_mapping = list(set(LabelName_val))\n",
    "LabelName_val_mapping_dict = dict()\n",
    "for i in range(len(LabelName_val_mapping)):\n",
    "      LabelName_val_mapping_dict[LabelName_val_mapping[i]] = i\n",
    "# Use dictionary to convert labels in \"LabelName_train\" to its numeric equivalent labels for darknet training\n",
    "for i in trange(len(LabelName_val)):\n",
    "    LabelName_val[i] = LabelName_val_mapping_dict[LabelName_val[i]]\n",
    "XMin_val = copy.copy(val_df['XMin'])\n",
    "YMin_val = copy.copy(val_df['YMin'])\n",
    "Width_val = copy.copy(abs(val_df['XMax']-val_df['XMin']))\n",
    "Height_val = copy.copy(abs(val_df['YMax']-val_df['YMin']))\n",
    "XCenter_val = XMin_val + Width_val/2\n",
    "YCenter_val = YMin_val + Height_val/2\n",
    "\n",
    "# Combine texts to output in \"<object-class> <x_center> <y_center> <width> <height>\"\n",
    "darknet_input_val = []\n",
    "for i in trange(len(LabelName_val)):\n",
    "    darknet_input_val.append( (str(LabelName_val[i])+\" \"+str(XCenter_val[i])+\n",
    "                        \" \"+str(YCenter_val[i])+\" \"+str(Width_val[i])+\n",
    "                        \" \"+str(Height_val[i]) ))\n",
    "# Save final input to a txt file\n",
    "os.chdir(\"E:/Machine Learning/Kaggle - Open Images Challenge\")\n",
    "with open('darknet_input_val_aug_23.txt','w') as f:\n",
    "    for lines in darknet_input_val:\n",
    "        f.write(lines)\n",
    "        f.write('\\n')\n",
    "\n",
    "\n",
    "# import \"darknet_input_val.txt\" if \"In [2]:\" was not ran\n",
    "os.chdir(\"E:/Machine Learning/Kaggle - Open Images Challenge\")\n",
    "darknet_input_val = []\n",
    "with  open(\"darknet_input_val.txt\") as f:\n",
    "    darknet_input_val = f.readlines()\n",
    "val_df = pd.read_csv(\"E:/Machine Learning/Kaggle - Open Images Challenge/val_annotation_without_coco.csv\")\n",
    "ImageID_val = copy.copy(np.asarray(val_df['ImageID']))\n",
    "for  i in range(len(ImageID_val)):\n",
    "    ImageID_val[i] = ImageID_val[i]+\".txt\"\n",
    "# Create individual txt files for each image\n",
    "os.chdir(\"E:/Machine Learning/Kaggle - Open Images Challenge/darknet/build/darknet/x64/data/val\")\n",
    "for i in trange(len(ImageID_val)):\n",
    "    with open(ImageID_val[i],'a') as f:\n",
    "        f.write(darknet_input_val[i])\n",
    "        # Don't include below line if reading info from text file\n",
    "        #f.write('\\n')\n",
    "        \n"
   ]
  },
  {
   "cell_type": "code",
   "execution_count": null,
   "metadata": {},
   "outputs": [],
   "source": []
  }
 ],
 "metadata": {
  "kernelspec": {
   "display_name": "Python 3",
   "language": "python",
   "name": "python3"
  },
  "language_info": {
   "codemirror_mode": {
    "name": "ipython",
    "version": 3
   },
   "file_extension": ".py",
   "mimetype": "text/x-python",
   "name": "python",
   "nbconvert_exporter": "python",
   "pygments_lexer": "ipython3",
   "version": "3.6.6"
  }
 },
 "nbformat": 4,
 "nbformat_minor": 2
}
