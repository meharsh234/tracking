{
 "cells": [
  {
   "cell_type": "code",
   "execution_count": 1,
   "metadata": {},
   "outputs": [],
   "source": [
    "import os\n",
    "import numpy as np\n",
    "import pandas as pd\n",
    "from tqdm import trange"
   ]
  },
  {
   "cell_type": "code",
   "execution_count": 2,
   "metadata": {},
   "outputs": [
    {
     "data": {
      "text/plain": [
       "'C:\\\\Users\\\\mlee'"
      ]
     },
     "execution_count": 2,
     "metadata": {},
     "output_type": "execute_result"
    }
   ],
   "source": [
    "os.getcwd()"
   ]
  },
  {
   "cell_type": "code",
   "execution_count": 34,
   "metadata": {},
   "outputs": [],
   "source": [
    "# Imports two .csv files for merging\n",
    "file1 = pd.read_csv(\"C:/Users/mlee/Desktop/coco_and_without_coco_24000.csv\")\n",
    "file2 = pd.read_csv(\"C:/Users/mlee/Desktop/ultimate_submission.csv\")"
   ]
  },
  {
   "cell_type": "code",
   "execution_count": 35,
   "metadata": {},
   "outputs": [
    {
     "name": "stderr",
     "output_type": "stream",
     "text": [
      "100%|████████████████████████████████████| 99999/99999 [25:30<00:00, 65.35it/s]\n"
     ]
    }
   ],
   "source": [
    "# Merges two .csv files\n",
    "merged_ImageID = []\n",
    "merged_PredictionString = []\n",
    "for i in trange(len(file1['ImageID'])):\n",
    "    merged_ImageID.append(file1['ImageID'][i])\n",
    "    merged_PredictionString.append((str(file1['PredictionString'][i])+\" \"+\n",
    "                                   str(file2['PredictionString'][file2[file2['ImageId']==file1['ImageID'][i]].index.tolist()[0]])).lstrip())"
   ]
  },
  {
   "cell_type": "code",
   "execution_count": 37,
   "metadata": {},
   "outputs": [],
   "source": [
    "# Create a pandas dataframe with merged data\n",
    "os.chdir(\"C:/Users/mlee/Desktop\")\n",
    "merge_csv = pd.DataFrame({\"ImageId\":merged_ImageID ,\"PredictionString\":merged_PredictionString})\n"
   ]
  },
  {
   "cell_type": "code",
   "execution_count": null,
   "metadata": {},
   "outputs": [
    {
     "name": "stderr",
     "output_type": "stream",
     "text": [
      " 34%|███████████▉                       | 34028/99999 [01:16<02:28, 443.45it/s]"
     ]
    }
   ],
   "source": [
    "# There were 'Nan' values as prediction string from file2. Remove them\n",
    "for i in trange(len(merge_csv['PredictionString'])):\n",
    "    merge_csv['PredictionString'][i]=merge_csv['PredictionString'][i].replace('nan',\"\")"
   ]
  },
  {
   "cell_type": "code",
   "execution_count": null,
   "metadata": {},
   "outputs": [],
   "source": [
    "# Save the final file\n",
    "merge_csv.to_csv(\"coco_withoutcoco_oid.csv\",index=False)"
   ]
  }
 ],
 "metadata": {
  "kernelspec": {
   "display_name": "Python 3",
   "language": "python",
   "name": "python3"
  },
  "language_info": {
   "codemirror_mode": {
    "name": "ipython",
    "version": 3
   },
   "file_extension": ".py",
   "mimetype": "text/x-python",
   "name": "python",
   "nbconvert_exporter": "python",
   "pygments_lexer": "ipython3",
   "version": "3.6.6"
  }
 },
 "nbformat": 4,
 "nbformat_minor": 2
}
