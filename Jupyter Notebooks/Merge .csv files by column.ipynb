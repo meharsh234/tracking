{
 "cells": [
  {
   "cell_type": "code",
   "execution_count": 1,
   "metadata": {},
   "outputs": [],
   "source": [
    "import os\n",
    "import numpy as np\n",
    "import pandas as pd\n",
    "from tqdm import trange"
   ]
  },
  {
   "cell_type": "code",
   "execution_count": 2,
   "metadata": {},
   "outputs": [
    {
     "data": {
      "text/plain": [
       "'C:\\\\Users\\\\mlee'"
      ]
     },
     "execution_count": 2,
     "metadata": {},
     "output_type": "execute_result"
    }
   ],
   "source": [
    "os.getcwd()"
   ]
  },
  {
   "cell_type": "code",
   "execution_count": 34,
   "metadata": {},
   "outputs": [],
   "source": [
    "# Imports two .csv files for merging\n",
    "file1 = pd.read_csv(\"C:/Users/mlee/Desktop/coco_and_without_coco_24000.csv\")\n",
    "file2 = pd.read_csv(\"C:/Users/mlee/Desktop/ultimate_submission.csv\")"
   ]
  },
  {
   "cell_type": "code",
   "execution_count": null,
   "metadata": {},
   "outputs": [
    {
     "name": "stderr",
     "output_type": "stream",
     "text": [
      " 17%|██████                              | 16695/99999 [04:12<21:00, 66.10it/s]"
     ]
    }
   ],
   "source": [
    "# Merges two .csv files\n",
    "merged_ImageID = []\n",
    "merged_PredictionString = []\n",
    "for i in trange(len(file1['ImageID'])):\n",
    "    merged_ImageID.append(file1['ImageID'][i])\n",
    "    merged_PredictionString.append((str(file1['PredictionString'][i])+\" \"+\n",
    "                                   str(file2['PredictionString'][file2[file2['ImageId']==file1['ImageID'][i]].index.tolist()[0]])).lstrip())"
   ]
  },
  {
   "cell_type": "code",
   "execution_count": null,
   "metadata": {},
   "outputs": [],
   "source": [
    "# Saves merged data in .csv format with according column names\n",
    "os.chdir(\"C:/Users/mlee/Desktop\")\n",
    "merge_csv = pd.DataFrame({\"ImageId\":merged_ImageID ,\"LabelName\":merged_PredictionString})\n",
    "merge_csv.to_csv(\"coco_withoutcoco_oid.csv\",index=False)"
   ]
  }
 ],
 "metadata": {
  "kernelspec": {
   "display_name": "Python 3",
   "language": "python",
   "name": "python3"
  },
  "language_info": {
   "codemirror_mode": {
    "name": "ipython",
    "version": 3
   },
   "file_extension": ".py",
   "mimetype": "text/x-python",
   "name": "python",
   "nbconvert_exporter": "python",
   "pygments_lexer": "ipython3",
   "version": "3.6.6"
  }
 },
 "nbformat": 4,
 "nbformat_minor": 2
}
