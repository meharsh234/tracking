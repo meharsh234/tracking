{
 "cells": [
  {
   "cell_type": "code",
   "execution_count": 4,
   "metadata": {},
   "outputs": [],
   "source": [
    "# Import Library\n",
    "import os,csv\n",
    "import pandas as pd\n",
    "from tqdm import trange\n",
    "import copy\n",
    "import numpy as np"
   ]
  },
  {
   "cell_type": "code",
   "execution_count": 7,
   "metadata": {},
   "outputs": [],
   "source": [
    "# Enter inputs so that you can just execute other cells\n",
    "first_file = \"result_without_coco_24000.txt\"\n",
    "second_file = \"result_coco.txt\""
   ]
  },
  {
   "cell_type": "code",
   "execution_count": 8,
   "metadata": {},
   "outputs": [
    {
     "name": "stderr",
     "output_type": "stream",
     "text": [
      "100%|███████████████████████████████████████████████████████████████████████| 99999/99999 [00:00<00:00, 3038373.59it/s]\n",
      "100%|███████████████████████████████████████████████████████████████████████| 99999/99999 [00:00<00:00, 2179754.63it/s]\n",
      "100%|███████████████████████████████████████████████████████████████████████| 99999/99999 [00:00<00:00, 2570958.72it/s]\n",
      "100%|███████████████████████████████████████████████████████████████████████| 99999/99999 [00:00<00:00, 1496529.03it/s]\n",
      "100%|█████████████████████████████████████████████████████████████████████████| 99999/99999 [00:02<00:00, 45575.57it/s]\n"
     ]
    },
    {
     "name": "stdout",
     "output_type": "stream",
     "text": [
      "It is saved in : E:\\Machine Learning\\Kaggle - Open Images Challenge\n"
     ]
    }
   ],
   "source": [
    "# Read results from darknet prediction output for first file and process it\n",
    "\n",
    "#os.chdir(\"E:/Machine Learning/Kaggle - Open Images Challenge/darknet/build/darknet/x64\")\n",
    "os.chdir(\"E:/Machine Learning/Kaggle - Open Images Challenge\")\n",
    "submission_text = []\n",
    "with open(first_file) as f:\n",
    "    submission_text = f.readlines()\n",
    "# Trim \"\\n\" from end of each line from text file\n",
    "for i in trange(len(submission_text)):\n",
    "    submission_text[i] = submission_text[i][:-2]\n",
    "# Save image name and prediction string separately  \n",
    "submission_ImageId = []\n",
    "submission_pred = []\n",
    "for i in trange(len(submission_text)):\n",
    "    submission_ImageId.append(submission_text[i][10:26])\n",
    "    submission_pred.append(submission_text[i][31:])\n",
    "first_file_processed = pd.DataFrame({\"ImageId\":submission_ImageId,\"PredictionString\":submission_pred})\n",
    "first_file_processed.to_csv(\"first_file.csv\",index=False)\n",
    "\n",
    "# Read results from darknet prediction output for second file and process it\n",
    "\n",
    "#os.chdir(\"E:/Machine Learning/Kaggle - Open Images Challenge/darknet/build/darknet/x64\")\n",
    "os.chdir(\"E:/Machine Learning/Kaggle - Open Images Challenge\")\n",
    "submission_text = []\n",
    "with open(second_file) as f:\n",
    "    submission_text = f.readlines()\n",
    "# Trim \"\\n\" from end of each line from text file\n",
    "for i in trange(len(submission_text)):\n",
    "    submission_text[i] = submission_text[i][:-2]\n",
    "# Save image name and prediction string separately  \n",
    "submission_ImageId = []\n",
    "submission_pred = []\n",
    "for i in trange(len(submission_text)):\n",
    "    submission_ImageId.append(submission_text[i][10:26])\n",
    "    submission_pred.append(submission_text[i][31:])\n",
    "# # Replaces wrongly labeled label\n",
    "# for i in trange(len(submission_pred)):\n",
    "#     if \"traffic light\" in submission_pred[i]:\n",
    "#         submission_pred[i]=submission_pred[i].replace('traffic light','/m/015qff')\n",
    "# Save \"submission_ImageId\" and \"submission_pred\" under correct headers for final submission\n",
    "second_file_processed = pd.DataFrame({\"ImageId\":submission_ImageId,\"PredictionString\":submission_pred})\n",
    "second_file_processed.to_csv(\"second_file.csv\",index=False)\n",
    "\n",
    "# Merge the two files\n",
    "if (len(first_file_processed['ImageId'])!=len(second_file_processed['ImageId'])):\n",
    "    print(\"Verify entry numbers for each files..\")\n",
    "else:  \n",
    "    merged_prediction = []\n",
    "    for i in trange(len(first_file_processed['ImageId'])):\n",
    "        merged_prediction.append(first_file_processed['PredictionString'][i]+\" \"+second_file_processed['PredictionString'][i])\n",
    "    # Write new csv\n",
    "    merged_data_df = pd.DataFrame({\"ImageID\":first_file_processed['ImageId'],\"PredictionString\":merged_prediction})\n",
    "    merged_data_df.to_csv(\"merged.csv\",index=False)\n",
    "    print(\"It is saved in :\",os.getcwd())\n"
   ]
  }
 ],
 "metadata": {
  "kernelspec": {
   "display_name": "Python 3",
   "language": "python",
   "name": "python3"
  },
  "language_info": {
   "codemirror_mode": {
    "name": "ipython",
    "version": 3
   },
   "file_extension": ".py",
   "mimetype": "text/x-python",
   "name": "python",
   "nbconvert_exporter": "python",
   "pygments_lexer": "ipython3",
   "version": "3.6.6"
  }
 },
 "nbformat": 4,
 "nbformat_minor": 2
}
